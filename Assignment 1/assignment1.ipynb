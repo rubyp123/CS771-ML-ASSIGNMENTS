{
 "cells": [
  {
   "cell_type": "code",
   "execution_count": 60,
   "metadata": {},
   "outputs": [],
   "source": [
    "#import modules\n",
    "import numpy as np"
   ]
  },
  {
   "cell_type": "code",
   "execution_count": 61,
   "metadata": {},
   "outputs": [],
   "source": [
    "#loading files\n",
    "seen_classes_attr = np.load('class_attributes_seen.npy')\n",
    "unseen_classes_attr = np.load('class_attributes_unseen.npy')\n",
    "Xtest = np.load('Xtest.npy')\n",
    "Ytest = np.load('Ytest.npy')\n",
    "X_seen_class = np.load('X_seen.npy',encoding='bytes',allow_pickle=True)"
   ]
  },
  {
   "cell_type": "code",
   "execution_count": 62,
   "metadata": {},
   "outputs": [],
   "source": [
    "#ML assignment 6 (a)\n",
    "# Mean of X_seen\n",
    "mean_seen_class =[]\n",
    "mean=[]\n",
    "\n",
    "for i in range(40):\n",
    "    mean=[]\n",
    "    mean=np.mean(X_seen_class[i] ,axis=0)\n",
    "    mean_seen_class.append(mean)\n",
    "\n",
    "#print(np.array(mean_seen_class))"
   ]
  },
  {
   "cell_type": "code",
   "execution_count": 63,
   "metadata": {},
   "outputs": [],
   "source": [
    "#similarity\n",
    "similarity = np.zeros(10)\n",
    "similarity = np.dot(unseen_classes_attr , seen_classes_attr.T)\n",
    "#print(similarity)\n",
    "#print(np.array(similarity))"
   ]
  },
  {
   "cell_type": "code",
   "execution_count": 64,
   "metadata": {},
   "outputs": [],
   "source": [
    "#normalize\n",
    "for i in range(10):\n",
    "    sum=0\n",
    "    for j in range(40):\n",
    "        sum = sum + similarity[i][j]\n",
    "    for j in range(40):\n",
    "        similarity[i][j] = (similarity[i][j])/sum\n",
    "\n",
    "#print(np.array(similarity))"
   ]
  },
  {
   "cell_type": "code",
   "execution_count": 65,
   "metadata": {},
   "outputs": [],
   "source": [
    "#mean\n",
    "mean_unseen_class=[]\n",
    "mean_unseen_class = np.dot(similarity,mean_seen_class)\n",
    "#print(np.array(mean_unseen_class))"
   ]
  },
  {
   "cell_type": "code",
   "execution_count": 66,
   "metadata": {},
   "outputs": [
    {
     "name": "stdout",
     "output_type": "stream",
     "text": [
      "Accuracy =  46.89320388349515 %\n"
     ]
    }
   ],
   "source": [
    "\n",
    "predicted_data = np.zeros((6180, 1))\n",
    "for i in range(6180):\n",
    "    d = np.zeros(10)\n",
    "    for j in range(10):\n",
    "         d[j] = np.linalg.norm(Xtest[i] - mean_unseen_class[j] )\n",
    "    min_d = np.argmin(d)\n",
    "    predicted_data[i] = min_d + 1 \n",
    "\n",
    "\n",
    "#print(np.array(predicted_data).shape)\n",
    "#print(np.array(Ytest))\n",
    "\n",
    "accuracy = np.sum(Ytest==predicted_data)/6180\n",
    "print(\"Accuracy = \",accuracy*100,\"%\")\n"
   ]
  },
  {
   "cell_type": "code",
   "execution_count": 67,
   "metadata": {},
   "outputs": [
    {
     "name": "stdout",
     "output_type": "stream",
     "text": [
      "Accuracy at lambda  0.01 = 58.090614886731395 %\n",
      "Accuracy at lambda  0.1 = 59.54692556634305 %\n",
      "Accuracy at lambda  1 = 67.39482200647248 %\n",
      "Accuracy at lambda  10 = 73.28478964401295 %\n",
      "Accuracy at lambda  20 = 71.68284789644012 %\n",
      "Accuracy at lambda  50 = 65.08090614886731 %\n",
      "Accuracy at lambda  100 = 56.47249190938511 %\n"
     ]
    }
   ],
   "source": [
    "#ML assignment 6 (b) regression \n",
    "\n",
    "#mean of seen classes\n",
    "M = mean_seen_class\n",
    "\n",
    "#seen class attribute\n",
    "A = seen_classes_attr\n",
    "\n",
    "#calculating w\n",
    "λ = [0.01, 0.1, 1, 10, 20, 50, 100]\n",
    "for item in λ:\n",
    "    A_transpose = np.transpose(A)  # Transpose of A\n",
    "    As = np.dot(A_transpose, A)    # A_transpose dot A\n",
    "    I = np.identity(As.shape[0])   # Identity matrix of the same size as As\n",
    "    λI = item * I                  # λ multiplied by the identity matrix\n",
    "\n",
    "    W = np.linalg.inv(As + λI).dot(A_transpose).dot(M)\n",
    "    #print(np.array(W).shape)\n",
    "\n",
    "    #calculating mean for unseen classes\n",
    "    ac = unseen_classes_attr\n",
    "\n",
    "    unseen_classes = np.dot( ac,W)\n",
    "    #print(np.array(unseen_classes).shape)\n",
    "\n",
    "    predicted_data = np.zeros((6180, 1))\n",
    "    for i in range(6180):\n",
    "        d = np.zeros(10)\n",
    "        for j in range(10):\n",
    "            d[j] = np.linalg.norm(Xtest[i] - unseen_classes[j] )\n",
    "        min_d = np.argmin(d)\n",
    "        predicted_data[i] = min_d + 1 \n",
    "\n",
    "    #print(np.array(predicted_data).shape)\n",
    "    #print(np.array(Ytest))\n",
    "\n",
    "    accuracy= np.sum(Ytest==predicted_data)/6180\n",
    "    print(\"Accuracy at lambda \",item ,\"=\", accuracy*100,\"%\")"
   ]
  },
  {
   "cell_type": "code",
   "execution_count": 2,
   "metadata": {},
   "outputs": [
    {
     "name": "stdout",
     "output_type": "stream",
     "text": [
      "Accuracy = 46.89320388349515 %\n"
     ]
    }
   ],
   "source": [
    "import numpy as np\n",
    "\n",
    "def load_data(file_path):\n",
    "    return np.load(file_path, encoding='bytes', allow_pickle=True)\n",
    "\n",
    "def calculate_mean_vectors(data):\n",
    "    mean_vectors = []\n",
    "    for class_data in data:\n",
    "        class_mean_vector = np.mean(class_data, axis=0)\n",
    "        mean_vectors.append(class_mean_vector)\n",
    "    return mean_vectors\n",
    "\n",
    "def calculate_similarity_scores(unseen_attributes, seen_attributes):\n",
    "    return np.dot(unseen_attributes, seen_attributes.T)\n",
    "\n",
    "def normalize_similarity_scores(scores):\n",
    "    normalized_scores = np.zeros_like(scores)\n",
    "    for i in range(len(scores)):\n",
    "        sum_scores = np.sum(scores[i])\n",
    "        normalized_scores[i] = scores[i] / sum_scores\n",
    "    return normalized_scores\n",
    "\n",
    "def predict_unseen_classes(test_data, mean_unseen_vectors):\n",
    "    predicted_labels = np.zeros((len(test_data), 1))\n",
    "    for i in range(len(test_data)):\n",
    "        distances = np.zeros(len(mean_unseen_vectors))\n",
    "        for j in range(len(mean_unseen_vectors)):\n",
    "            distances[j] = np.linalg.norm(test_data[i] - mean_unseen_vectors[j])\n",
    "        min_distance_class = np.argmin(distances)\n",
    "        predicted_labels[i] = min_distance_class + 1\n",
    "    return predicted_labels\n",
    "\n",
    "def calculate_accuracy(true_labels, predicted_labels):\n",
    "    correct_predictions = np.sum(true_labels == predicted_labels)\n",
    "    total_samples = len(true_labels)\n",
    "    return (correct_predictions / total_samples) * 100\n",
    "\n",
    "if __name__== \"__main__\":\n",
    "    seen_attrs = load_data('class_attributes_seen.npy')\n",
    "    unseen_attrs = load_data('class_attributes_unseen.npy')\n",
    "    test_data = load_data('Xtest.npy')\n",
    "    test_labels = load_data('Ytest.npy')\n",
    "    seen_data = load_data('X_seen.npy')\n",
    "\n",
    "    mean_seen_vectors = calculate_mean_vectors(seen_data)\n",
    "    similarity_scores = calculate_similarity_scores(unseen_attrs, seen_attrs)\n",
    "    normalized_similarity_scores = normalize_similarity_scores(similarity_scores)\n",
    "    mean_unseen_vectors = np.dot(normalized_similarity_scores, mean_seen_vectors)\n",
    "\n",
    "    predicted_labels = predict_unseen_classes(test_data, mean_unseen_vectors)\n",
    "    accuracy = calculate_accuracy(test_labels, predicted_labels)\n",
    "    \n",
    "    print(\"Accuracy =\", accuracy, \"%\")"
   ]
  },
  {
   "cell_type": "code",
   "execution_count": 6,
   "metadata": {},
   "outputs": [
    {
     "name": "stdout",
     "output_type": "stream",
     "text": [
      "Accuracy at lambda = 0.01 is 58.090614886731395%\n",
      "Accuracy at lambda = 0.1 is 59.54692556634305%\n",
      "Accuracy at lambda = 1 is 67.39482200647248%\n",
      "Accuracy at lambda = 10 is 73.28478964401295%\n",
      "Accuracy at lambda = 20 is 71.68284789644012%\n",
      "Accuracy at lambda = 50 is 65.08090614886731%\n",
      "Accuracy at lambda = 100 is 56.47249190938511%\n"
     ]
    }
   ],
   "source": [
    "import numpy as np\n",
    "\n",
    "def load_data(file_path):\n",
    "    return np.load(file_path, encoding='bytes', allow_pickle=True)\n",
    "\n",
    "\n",
    "def calculate_mean_vectors(class_data):\n",
    "    mean_vectors = []\n",
    "    for i in range(len(class_data)):\n",
    "        class_mean = np.mean(class_data[i], axis=0)\n",
    "        mean_vectors.append(class_mean)\n",
    "    return mean_vectors\n",
    "\n",
    "def calculate_accuracy(true_labels, predicted_labels):\n",
    "    return np.sum(true_labels == predicted_labels) / len(true_labels)\n",
    "\n",
    "def perform_regularized_regression(seen_attrs, unseen_attrs, test_data, test_labels, seen_data):\n",
    "    # Define regularization parameter values\n",
    "    lambda_values = [0.01, 0.1, 1, 10, 20, 50, 100]\n",
    "    \n",
    "    # Iterate over lambda values\n",
    "    for lambda_val in lambda_values:\n",
    "        # Prepare data\n",
    "        A = seen_attrs\n",
    "        A_transpose = np.transpose(A)\n",
    "        As = np.dot(A_transpose, A)\n",
    "        I = np.identity(As.shape[0])\n",
    "        λI = lambda_val * I\n",
    "\n",
    "        # Calculate mean vectors for seen data\n",
    "        mean_seen = calculate_mean_vectors(seen_data)\n",
    "\n",
    "        # Compute weights using regularized regression\n",
    "        weights = np.linalg.inv(As + λI).dot(A_transpose).dot(mean_seen)\n",
    "\n",
    "        # Calculate mean vectors for unseen data\n",
    "        mean_unseen = np.dot(unseen_attrs, weights)\n",
    "\n",
    "        # Predict labels for test data\n",
    "        predicted_labels = np.zeros((len(test_data), 1))\n",
    "        for i in range(len(test_data)):\n",
    "            distances = np.zeros(10)\n",
    "            for j in range(10):\n",
    "                distances[j] = np.linalg.norm(test_data[i] - mean_unseen[j])\n",
    "            min_distance_class = np.argmin(distances)\n",
    "            predicted_labels[i] = min_distance_class + 1\n",
    "\n",
    "        # Calculate accuracy\n",
    "        accuracy = calculate_accuracy(test_labels, predicted_labels)\n",
    "        print(f\"Accuracy at lambda = {lambda_val} is {accuracy * 100}%\")\n",
    "\n",
    "# Load data files\n",
    "seen_class_attributes = load_data('class_attributes_seen.npy')\n",
    "unseen_class_attributes = load_data('class_attributes_unseen.npy')\n",
    "test_data = load_data('Xtest.npy')\n",
    "test_labels = load_data('Ytest.npy')\n",
    "seen_class_data = load_data('X_seen.npy')\n",
    "\n",
    "# Perform regularized regression and evaluate performance\n",
    "perform_regularized_regression(seen_class_attributes, unseen_class_attributes, test_data, test_labels, seen_class_data)"
   ]
  }
 ],
 "metadata": {
  "kernelspec": {
   "display_name": "Python 3",
   "language": "python",
   "name": "python3"
  },
  "language_info": {
   "codemirror_mode": {
    "name": "ipython",
    "version": 3
   },
   "file_extension": ".py",
   "mimetype": "text/x-python",
   "name": "python",
   "nbconvert_exporter": "python",
   "pygments_lexer": "ipython3",
   "version": "3.10.1"
  },
  "orig_nbformat": 4
 },
 "nbformat": 4,
 "nbformat_minor": 2
}
