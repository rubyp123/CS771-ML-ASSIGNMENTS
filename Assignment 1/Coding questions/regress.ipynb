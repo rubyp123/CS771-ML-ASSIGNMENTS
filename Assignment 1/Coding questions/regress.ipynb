{
 "cells": [
  {
   "cell_type": "code",
   "execution_count": 2,
   "metadata": {},
   "outputs": [
    {
     "name": "stdout",
     "output_type": "stream",
     "text": [
      "Accuracy at lambda  0.01 = 58.090614886731395 %\n",
      "Accuracy at lambda  0.1 = 59.54692556634305 %\n",
      "Accuracy at lambda  1 = 67.39482200647248 %\n",
      "Accuracy at lambda  10 = 73.28478964401295 %\n",
      "Accuracy at lambda  20 = 71.68284789644012 %\n",
      "Accuracy at lambda  50 = 65.08090614886731 %\n",
      "Accuracy at lambda  100 = 56.47249190938511 %\n"
     ]
    }
   ],
   "source": [
    "#ML assignment 6 (b) regression \n",
    "#import modules\n",
    "import numpy as np\n",
    "#loading files\n",
    "seen_classes_attr = np.load('class_attributes_seen.npy')\n",
    "unseen_classes_attr = np.load('class_attributes_unseen.npy')\n",
    "Xtest = np.load('Xtest.npy')\n",
    "Ytest = np.load('Ytest.npy')\n",
    "X_seen_class = np.load('X_seen.npy',encoding='bytes',allow_pickle=True)\n",
    "\n",
    "#mean of seen classes\n",
    "#ML assignment 6 (a)\n",
    "# Mean of X_seen\n",
    "mean_seen_class =[]\n",
    "mean=[]\n",
    "\n",
    "for i in range(40):\n",
    "    mean=[]\n",
    "    mean=np.mean(X_seen_class[i] ,axis=0)\n",
    "    mean_seen_class.append(mean)\n",
    "\n",
    "#print(np.array(mean_seen_class))\n",
    "\n",
    "M = mean_seen_class\n",
    "\n",
    "#seen class attribute\n",
    "A = seen_classes_attr\n",
    "\n",
    "#calculating w\n",
    "λ = [0.01, 0.1, 1, 10, 20, 50, 100]\n",
    "for item in λ:\n",
    "    A_transpose = np.transpose(A)  # Transpose of A\n",
    "    As = np.dot(A_transpose, A)    # A_transpose dot A\n",
    "    I = np.identity(As.shape[0])   # Identity matrix of the same size as As\n",
    "    λI = item * I                  # λ multiplied by the identity matrix\n",
    "\n",
    "    W = np.linalg.inv(As + λI).dot(A_transpose).dot(M)\n",
    "    #print(np.array(W).shape)\n",
    "\n",
    "    #calculating mean for unseen classes\n",
    "    ac = unseen_classes_attr\n",
    "\n",
    "    unseen_classes = np.dot( ac,W)\n",
    "    #print(np.array(unseen_classes).shape)\n",
    "\n",
    "    predicted_data = np.zeros((6180, 1))\n",
    "    for i in range(6180):\n",
    "        d = np.zeros(10)\n",
    "        for j in range(10):\n",
    "            d[j] = np.linalg.norm(Xtest[i] - unseen_classes[j] )\n",
    "        min_d = np.argmin(d)\n",
    "        predicted_data[i] = min_d + 1 \n",
    "\n",
    "    #print(np.array(predicted_data).shape)\n",
    "    #print(np.array(Ytest))\n",
    "\n",
    "    accuracy= np.sum(Ytest==predicted_data)/6180\n",
    "    print(\"Accuracy at lambda \",item ,\"=\", accuracy*100,\"%\")"
   ]
  }
 ],
 "metadata": {
  "kernelspec": {
   "display_name": "Python 3",
   "language": "python",
   "name": "python3"
  },
  "language_info": {
   "codemirror_mode": {
    "name": "ipython",
    "version": 3
   },
   "file_extension": ".py",
   "mimetype": "text/x-python",
   "name": "python",
   "nbconvert_exporter": "python",
   "pygments_lexer": "ipython3",
   "version": "3.10.1"
  },
  "orig_nbformat": 4
 },
 "nbformat": 4,
 "nbformat_minor": 2
}
