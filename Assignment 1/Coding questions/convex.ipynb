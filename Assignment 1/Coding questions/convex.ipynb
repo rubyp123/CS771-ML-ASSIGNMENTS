{
 "cells": [
  {
   "cell_type": "code",
   "execution_count": 1,
   "metadata": {},
   "outputs": [
    {
     "name": "stdout",
     "output_type": "stream",
     "text": [
      "Accuracy =  46.89320388349515 %\n"
     ]
    }
   ],
   "source": [
    "#ML Assignment 6(a)\n",
    "#import modules\n",
    "import numpy as np\n",
    "\n",
    "#loading files\n",
    "seen_classes_attr = np.load('class_attributes_seen.npy')\n",
    "unseen_classes_attr = np.load('class_attributes_unseen.npy')\n",
    "Xtest = np.load('Xtest.npy')\n",
    "Ytest = np.load('Ytest.npy')\n",
    "X_seen_class = np.load('X_seen.npy',encoding='bytes',allow_pickle=True)\n",
    "\n",
    "# Mean of X_seen\n",
    "mean_seen_class =[]\n",
    "mean=[]\n",
    "\n",
    "for i in range(40):\n",
    "    mean=[]\n",
    "    mean=np.mean(X_seen_class[i] ,axis=0)\n",
    "    mean_seen_class.append(mean)\n",
    "\n",
    "#print(np.array(mean_seen_class))\n",
    "\n",
    "#similarity\n",
    "similarity = np.zeros(10)\n",
    "similarity = np.dot(unseen_classes_attr , seen_classes_attr.T)\n",
    "#print(similarity)\n",
    "#print(np.array(similarity))\n",
    "\n",
    "#normalize\n",
    "for i in range(10):\n",
    "    sum=0\n",
    "    for j in range(40):\n",
    "        sum = sum + similarity[i][j]\n",
    "    for j in range(40):\n",
    "        similarity[i][j] = (similarity[i][j])/sum\n",
    "\n",
    "#print(np.array(similarity))\n",
    "\n",
    "#mean\n",
    "mean_unseen_class=[]\n",
    "mean_unseen_class = np.dot(similarity,mean_seen_class)\n",
    "#print(np.array(mean_unseen_class))\n",
    "\n",
    "predicted_data = np.zeros((6180, 1))\n",
    "for i in range(6180):\n",
    "    d = np.zeros(10)\n",
    "    for j in range(10):\n",
    "         d[j] = np.linalg.norm(Xtest[i] - mean_unseen_class[j] )\n",
    "    min_d = np.argmin(d)\n",
    "    predicted_data[i] = min_d + 1 \n",
    "\n",
    "\n",
    "#print(np.array(predicted_data).shape)\n",
    "#print(np.array(Ytest))\n",
    "\n",
    "accuracy = np.sum(Ytest==predicted_data)/6180\n",
    "print(\"Accuracy = \",accuracy*100,\"%\")\n"
   ]
  }
 ],
 "metadata": {
  "kernelspec": {
   "display_name": "Python 3",
   "language": "python",
   "name": "python3"
  },
  "language_info": {
   "codemirror_mode": {
    "name": "ipython",
    "version": 3
   },
   "file_extension": ".py",
   "mimetype": "text/x-python",
   "name": "python",
   "nbconvert_exporter": "python",
   "pygments_lexer": "ipython3",
   "version": "3.10.1"
  },
  "orig_nbformat": 4
 },
 "nbformat": 4,
 "nbformat_minor": 2
}
